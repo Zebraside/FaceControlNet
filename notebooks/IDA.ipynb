{
 "cells": [
  {
   "cell_type": "code",
   "id": "initial_id",
   "metadata": {
    "collapsed": true,
    "ExecuteTime": {
     "end_time": "2024-10-14T09:35:46.540408Z",
     "start_time": "2024-10-14T09:35:46.455118Z"
    }
   },
   "source": [
    "import pandas as pd\n",
    "from PIL import Image"
   ],
   "outputs": [],
   "execution_count": 20
  },
  {
   "metadata": {
    "ExecuteTime": {
     "end_time": "2024-10-14T09:31:56.520485Z",
     "start_time": "2024-10-14T09:31:56.449136Z"
    }
   },
   "cell_type": "code",
   "source": "df = pd.read_csv('../data/list_identity_celeba.csv', sep=\" \")",
   "id": "7346b8b1b4810d63",
   "outputs": [],
   "execution_count": 5
  },
  {
   "metadata": {
    "ExecuteTime": {
     "end_time": "2024-10-14T09:33:05.057584Z",
     "start_time": "2024-10-14T09:33:05.055197Z"
    }
   },
   "cell_type": "code",
   "source": "grouped = df.groupby('identity')",
   "id": "3eab16de557cbb58",
   "outputs": [],
   "execution_count": 11
  },
  {
   "metadata": {
    "ExecuteTime": {
     "end_time": "2024-10-14T09:36:25.274473Z",
     "start_time": "2024-10-14T09:36:20.751448Z"
    }
   },
   "cell_type": "code",
   "source": [
    "for group in grouped.groups:\n",
    "    images = list(grouped.get_group(group).img)\n",
    "    images = [Image.open(f'../data/img_align_celeba/img_align_celeba/{img}') for img in images]\n",
    "    break"
   ],
   "id": "8d2a2f0586b28ef1",
   "outputs": [],
   "execution_count": 22
  },
  {
   "metadata": {},
   "cell_type": "code",
   "outputs": [],
   "execution_count": null,
   "source": "",
   "id": "d512571d3a52c2ea"
  }
 ],
 "metadata": {
  "kernelspec": {
   "display_name": "Python 3",
   "language": "python",
   "name": "python3"
  },
  "language_info": {
   "codemirror_mode": {
    "name": "ipython",
    "version": 2
   },
   "file_extension": ".py",
   "mimetype": "text/x-python",
   "name": "python",
   "nbconvert_exporter": "python",
   "pygments_lexer": "ipython2",
   "version": "2.7.6"
  }
 },
 "nbformat": 4,
 "nbformat_minor": 5
}
